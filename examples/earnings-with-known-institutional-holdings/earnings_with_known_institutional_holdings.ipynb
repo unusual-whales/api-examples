{
 "cells": [
  {
   "cell_type": "code",
   "execution_count": 1,
   "metadata": {},
   "outputs": [],
   "source": [
    "import os\n",
    "import requests\n",
    "import polars as pl\n",
    "from rich import print"
   ]
  },
  {
   "cell_type": "markdown",
   "metadata": {},
   "source": [
    "**Let's start with something we have have experience with: the earnings endpoints.**\n",
    "\n",
    "- [https://api.unusualwhales.com/docs#/operations/PublicApi.EarningsController.afterhours](https://api.unusualwhales.com/docs#/operations/PublicApi.EarningsController.afterhours)\n",
    "- [https://api.unusualwhales.com/docs#/operations/PublicApi.EarningsController.premarket](https://api.unusualwhales.com/docs#/operations/PublicApi.EarningsController.premarket)\n",
    "\n",
    "We will collect tomorrow's earnings (Tue Nov 26th) for both afterhours and premarket and thin out the responses a bit for a more concise summary:"
   ]
  },
  {
   "cell_type": "code",
   "execution_count": 2,
   "metadata": {},
   "outputs": [
    {
     "data": {
      "text/html": [
       "<div><style>\n",
       ".dataframe > thead > tr,\n",
       ".dataframe > tbody > tr {\n",
       "  text-align: right;\n",
       "  white-space: pre-wrap;\n",
       "}\n",
       "</style>\n",
       "<small>shape: (32, 13)</small><table border=\"1\" class=\"dataframe\"><thead><tr><th>symbol</th><th>full_name</th><th>sector</th><th>is_s_p_500</th><th>ending_fiscal_quarter_dt</th><th>report_date_dt</th><th>report_time</th><th>street_mean_est</th><th>pre_earnings_close</th><th>expected_move_perc</th><th>expected_move</th><th>expected_high</th><th>expected_low</th></tr><tr><td>str</td><td>str</td><td>str</td><td>bool</td><td>date</td><td>date</td><td>str</td><td>f64</td><td>f64</td><td>f64</td><td>f64</td><td>f64</td><td>f64</td></tr></thead><tbody><tr><td>&quot;ZH&quot;</td><td>&quot;ZHIHU&quot;</td><td>&quot;Communication …</td><td>false</td><td>2024-09-30</td><td>2024-11-26</td><td>&quot;premarket&quot;</td><td>null</td><td>3.68</td><td>0.44788</td><td>1.65</td><td>5.33</td><td>2.03</td></tr><tr><td>&quot;DDD&quot;</td><td>&quot;3D SYSTEMS&quot;</td><td>&quot;Technology&quot;</td><td>false</td><td>2024-09-30</td><td>2024-11-26</td><td>&quot;postmarket&quot;</td><td>-0.09</td><td>3.43</td><td>0.167289</td><td>0.57</td><td>4.0</td><td>2.86</td></tr><tr><td>&quot;EMBC&quot;</td><td>&quot;EMBECTA&quot;</td><td>&quot;Healthcare&quot;</td><td>false</td><td>2024-09-30</td><td>2024-11-26</td><td>&quot;premarket&quot;</td><td>0.4</td><td>14.41</td><td>0.157259</td><td>2.27</td><td>16.68</td><td>12.14</td></tr><tr><td>&quot;MDWD&quot;</td><td>&quot;MEDIWOUND&quot;</td><td>&quot;Healthcare&quot;</td><td>false</td><td>2024-09-30</td><td>2024-11-26</td><td>&quot;premarket&quot;</td><td>-0.48</td><td>17.33</td><td>0.152562</td><td>2.64</td><td>19.97</td><td>14.69</td></tr><tr><td>&quot;TITN&quot;</td><td>&quot;TITAN MACHINER…</td><td>&quot;Industrials&quot;</td><td>false</td><td>2024-10-31</td><td>2024-11-26</td><td>&quot;premarket&quot;</td><td>0.07</td><td>15.42</td><td>0.143327</td><td>2.21</td><td>17.63</td><td>13.21</td></tr><tr><td>&hellip;</td><td>&hellip;</td><td>&hellip;</td><td>&hellip;</td><td>&hellip;</td><td>&hellip;</td><td>&hellip;</td><td>&hellip;</td><td>&hellip;</td><td>&hellip;</td><td>&hellip;</td><td>&hellip;</td><td>&hellip;</td></tr><tr><td>&quot;ADSK&quot;</td><td>&quot;AUTODESK&quot;</td><td>&quot;Technology&quot;</td><td>true</td><td>2024-10-31</td><td>2024-11-26</td><td>&quot;postmarket&quot;</td><td>2.11</td><td>319.39</td><td>0.05546</td><td>17.71</td><td>337.1</td><td>301.68</td></tr><tr><td>&quot;SJM&quot;</td><td>&quot;J M SMUCKER&quot;</td><td>&quot;Consumer Defen…</td><td>true</td><td>2024-10-31</td><td>2024-11-26</td><td>&quot;premarket&quot;</td><td>2.51</td><td>113.62</td><td>0.054674</td><td>6.21</td><td>119.83</td><td>107.41</td></tr><tr><td>&quot;M&quot;</td><td>&quot;MACY&#x27;S&quot;</td><td>&quot;Consumer Cycli…</td><td>false</td><td>2024-10-31</td><td>2024-11-26</td><td>&quot;premarket&quot;</td><td>-0.01</td><td>15.94</td><td>0.054649</td><td>0.87</td><td>16.81</td><td>15.07</td></tr><tr><td>&quot;MANU&quot;</td><td>&quot;MANCHESTER UNI…</td><td>&quot;Consumer Cycli…</td><td>false</td><td>2024-09-30</td><td>2024-11-26</td><td>&quot;premarket&quot;</td><td>-0.29</td><td>17.21</td><td>0.047792</td><td>0.82</td><td>18.03</td><td>16.39</td></tr><tr><td>&quot;ADI&quot;</td><td>&quot;ANALOG DEVICES…</td><td>&quot;Technology&quot;</td><td>true</td><td>2024-10-31</td><td>2024-11-26</td><td>&quot;premarket&quot;</td><td>1.64</td><td>223.58</td><td>0.043165</td><td>9.65</td><td>233.23</td><td>213.93</td></tr></tbody></table></div>"
      ],
      "text/plain": [
       "shape: (32, 13)\n",
       "┌────────┬────────────┬────────────┬───────────┬───┬───────────┬───────────┬───────────┬───────────┐\n",
       "│ symbol ┆ full_name  ┆ sector     ┆ is_s_p_50 ┆ … ┆ expected_ ┆ expected_ ┆ expected_ ┆ expected_ │\n",
       "│ ---    ┆ ---        ┆ ---        ┆ 0         ┆   ┆ move_perc ┆ move      ┆ high      ┆ low       │\n",
       "│ str    ┆ str        ┆ str        ┆ ---       ┆   ┆ ---       ┆ ---       ┆ ---       ┆ ---       │\n",
       "│        ┆            ┆            ┆ bool      ┆   ┆ f64       ┆ f64       ┆ f64       ┆ f64       │\n",
       "╞════════╪════════════╪════════════╪═══════════╪═══╪═══════════╪═══════════╪═══════════╪═══════════╡\n",
       "│ ZH     ┆ ZHIHU      ┆ Communicat ┆ false     ┆ … ┆ 0.44788   ┆ 1.65      ┆ 5.33      ┆ 2.03      │\n",
       "│        ┆            ┆ ion        ┆           ┆   ┆           ┆           ┆           ┆           │\n",
       "│        ┆            ┆ Services   ┆           ┆   ┆           ┆           ┆           ┆           │\n",
       "│ DDD    ┆ 3D SYSTEMS ┆ Technology ┆ false     ┆ … ┆ 0.167289  ┆ 0.57      ┆ 4.0       ┆ 2.86      │\n",
       "│ EMBC   ┆ EMBECTA    ┆ Healthcare ┆ false     ┆ … ┆ 0.157259  ┆ 2.27      ┆ 16.68     ┆ 12.14     │\n",
       "│ MDWD   ┆ MEDIWOUND  ┆ Healthcare ┆ false     ┆ … ┆ 0.152562  ┆ 2.64      ┆ 19.97     ┆ 14.69     │\n",
       "│ TITN   ┆ TITAN      ┆ Industrial ┆ false     ┆ … ┆ 0.143327  ┆ 2.21      ┆ 17.63     ┆ 13.21     │\n",
       "│        ┆ MACHINERY  ┆ s          ┆           ┆   ┆           ┆           ┆           ┆           │\n",
       "│ …      ┆ …          ┆ …          ┆ …         ┆ … ┆ …         ┆ …         ┆ …         ┆ …         │\n",
       "│ ADSK   ┆ AUTODESK   ┆ Technology ┆ true      ┆ … ┆ 0.05546   ┆ 17.71     ┆ 337.1     ┆ 301.68    │\n",
       "│ SJM    ┆ J M        ┆ Consumer   ┆ true      ┆ … ┆ 0.054674  ┆ 6.21      ┆ 119.83    ┆ 107.41    │\n",
       "│        ┆ SMUCKER    ┆ Defensive  ┆           ┆   ┆           ┆           ┆           ┆           │\n",
       "│ M      ┆ MACY'S     ┆ Consumer   ┆ false     ┆ … ┆ 0.054649  ┆ 0.87      ┆ 16.81     ┆ 15.07     │\n",
       "│        ┆            ┆ Cyclical   ┆           ┆   ┆           ┆           ┆           ┆           │\n",
       "│ MANU   ┆ MANCHESTER ┆ Consumer   ┆ false     ┆ … ┆ 0.047792  ┆ 0.82      ┆ 18.03     ┆ 16.39     │\n",
       "│        ┆ UNITED     ┆ Cyclical   ┆           ┆   ┆           ┆           ┆           ┆           │\n",
       "│ ADI    ┆ ANALOG     ┆ Technology ┆ true      ┆ … ┆ 0.043165  ┆ 9.65      ┆ 233.23    ┆ 213.93    │\n",
       "│        ┆ DEVICES    ┆            ┆           ┆   ┆           ┆           ┆           ┆           │\n",
       "└────────┴────────────┴────────────┴───────────┴───┴───────────┴───────────┴───────────┴───────────┘"
      ]
     },
     "execution_count": 2,
     "metadata": {},
     "output_type": "execute_result"
    }
   ],
   "source": [
    "uw_token = os.environ['UW_TOKEN']\n",
    "headers = {'Accept': 'application/json, text/plain', 'Authorization': uw_token}\n",
    "\n",
    "# Collect Monday's earnings data (both afterhours and premarket)\n",
    "earnings_ah_params = {\n",
    "    'date': '2024-11-26'\n",
    "}\n",
    "earnings_ah_url = 'https://api.unusualwhales.com/api/earnings/afterhours'\n",
    "earnings_ah_r = requests.get(earnings_ah_url, headers=headers, params=earnings_ah_params)\n",
    "earnings_pm_params = {\n",
    "    'date': '2024-11-26'\n",
    "}\n",
    "earnings_pm_url = 'https://api.unusualwhales.com/api/earnings/premarket'\n",
    "earnings_pm_r = requests.get(earnings_pm_url, headers=headers, params=earnings_pm_params)\n",
    "\n",
    "# Create dataframes with each response then concatenate them into a single dataframe\n",
    "raw_ah_df = pl.DataFrame(earnings_ah_r.json()['data'])\n",
    "raw_pm_df = pl.DataFrame(earnings_pm_r.json()['data'])\n",
    "raw_earnings_df = pl.concat([raw_ah_df, raw_pm_df])\n",
    "raw_earnings_df\n",
    "\n",
    "preferred_order = [\n",
    "    'symbol',\n",
    "    'full_name',\n",
    "    'sector',\n",
    "    'is_s_p_500',\n",
    "    'ending_fiscal_quarter_dt',\n",
    "    'report_date_dt',\n",
    "    'report_time',\n",
    "    'street_mean_est',\n",
    "    'pre_earnings_close',\n",
    "    'expected_move_perc',\n",
    "    'expected_move',\n",
    "    'expected_high',\n",
    "    'expected_low'\n",
    "]\n",
    "earnings_df = (\n",
    "    raw_earnings_df\n",
    "    .filter(pl.col('has_options') == True)\n",
    "    .with_columns(\n",
    "        pl.col('ending_fiscal_quarter').str.strptime(pl.Date, '%Y-%m-%d').alias('ending_fiscal_quarter_dt'),\n",
    "        pl.col('pre_earnings_date').str.strptime(pl.Date, '%Y-%m-%d').alias('pre_earnings_date_dt'),\n",
    "        pl.col('report_date').str.strptime(pl.Date, '%Y-%m-%d').alias('report_date_dt'),\n",
    "        pl.col('expected_move').cast(pl.Float64),\n",
    "        pl.col('expected_move_perc').cast(pl.Float64),\n",
    "        pl.col('post_earnings_close').cast(pl.Float64),\n",
    "        pl.col('pre_earnings_close').cast(pl.Float64),\n",
    "        pl.col('reaction').cast(pl.Float64),\n",
    "        pl.col('street_mean_est').cast(pl.Float64)\n",
    "    )\n",
    "    .with_columns(\n",
    "        (pl.col('pre_earnings_close') + pl.col('expected_move')).alias('expected_high'),\n",
    "        (pl.col('pre_earnings_close') - pl.col('expected_move')).alias('expected_low')\n",
    "    )\n",
    "    .select(preferred_order)\n",
    "    .sort('expected_move_perc', descending=True)\n",
    ")\n",
    "earnings_df"
   ]
  },
  {
   "cell_type": "markdown",
   "metadata": {},
   "source": [
    "OK, 32 records, let's take a closer look at the tickers and full names to see if anything looks familiar or interesting."
   ]
  },
  {
   "cell_type": "code",
   "execution_count": 3,
   "metadata": {},
   "outputs": [
    {
     "data": {
      "text/html": [
       "<pre style=\"white-space:pre;overflow-x:auto;line-height:normal;font-family:Menlo,'DejaVu Sans Mono',consolas,'Courier New',monospace\"><span style=\"font-weight: bold\">{</span>\n",
       "    <span style=\"color: #008000; text-decoration-color: #008000\">'ZH'</span>: <span style=\"color: #008000; text-decoration-color: #008000\">'ZHIHU'</span>,\n",
       "    <span style=\"color: #008000; text-decoration-color: #008000\">'DDD'</span>: <span style=\"color: #008000; text-decoration-color: #008000\">'3D SYSTEMS'</span>,\n",
       "    <span style=\"color: #008000; text-decoration-color: #008000\">'EMBC'</span>: <span style=\"color: #008000; text-decoration-color: #008000\">'EMBECTA'</span>,\n",
       "    <span style=\"color: #008000; text-decoration-color: #008000\">'MDWD'</span>: <span style=\"color: #008000; text-decoration-color: #008000\">'MEDIWOUND'</span>,\n",
       "    <span style=\"color: #008000; text-decoration-color: #008000\">'TITN'</span>: <span style=\"color: #008000; text-decoration-color: #008000\">'TITAN MACHINERY'</span>,\n",
       "    <span style=\"color: #008000; text-decoration-color: #008000\">'NOAH'</span>: <span style=\"color: #008000; text-decoration-color: #008000\">'NOAH HOLDINGS'</span>,\n",
       "    <span style=\"color: #008000; text-decoration-color: #008000\">'PD'</span>: <span style=\"color: #008000; text-decoration-color: #008000\">'PAGERDUTY'</span>,\n",
       "    <span style=\"color: #008000; text-decoration-color: #008000\">'ARWR'</span>: <span style=\"color: #008000; text-decoration-color: #008000\">'ARROWHEAD PHARMACEUTICALS'</span>,\n",
       "    <span style=\"color: #008000; text-decoration-color: #008000\">'IREN'</span>: <span style=\"color: #008000; text-decoration-color: #008000\">'IRIS ENERGY'</span>,\n",
       "    <span style=\"color: #008000; text-decoration-color: #008000\">'GES'</span>: <span style=\"color: #008000; text-decoration-color: #008000\">'GUESS'</span>,\n",
       "    <span style=\"color: #008000; text-decoration-color: #008000\">'ANF'</span>: <span style=\"color: #008000; text-decoration-color: #008000\">'ABERCROMBIE &amp; FITCH'</span>,\n",
       "    <span style=\"color: #008000; text-decoration-color: #008000\">'KSS'</span>: <span style=\"color: #008000; text-decoration-color: #008000\">'KOHLS'</span>,\n",
       "    <span style=\"color: #008000; text-decoration-color: #008000\">'AMBA'</span>: <span style=\"color: #008000; text-decoration-color: #008000\">'AMBARELLA'</span>,\n",
       "    <span style=\"color: #008000; text-decoration-color: #008000\">'NTNX'</span>: <span style=\"color: #008000; text-decoration-color: #008000\">'NUTANIX'</span>,\n",
       "    <span style=\"color: #008000; text-decoration-color: #008000\">'DKS'</span>: <span style=\"color: #008000; text-decoration-color: #008000\">\"DICK'S SPORTING GOODS\"</span>,\n",
       "    <span style=\"color: #008000; text-decoration-color: #008000\">'AMWD'</span>: <span style=\"color: #008000; text-decoration-color: #008000\">'AMERICAN WOODMARK'</span>,\n",
       "    <span style=\"color: #008000; text-decoration-color: #008000\">'URBN'</span>: <span style=\"color: #008000; text-decoration-color: #008000\">'URBAN OUTFITTERS'</span>,\n",
       "    <span style=\"color: #008000; text-decoration-color: #008000\">'HTHT'</span>: <span style=\"color: #008000; text-decoration-color: #008000\">'H WORLD GROUP'</span>,\n",
       "    <span style=\"color: #008000; text-decoration-color: #008000\">'DELL'</span>: <span style=\"color: #008000; text-decoration-color: #008000\">'DELL TECHNOLOGIES'</span>,\n",
       "    <span style=\"color: #008000; text-decoration-color: #008000\">'WDAY'</span>: <span style=\"color: #008000; text-decoration-color: #008000\">'WORKDAY'</span>,\n",
       "    <span style=\"color: #008000; text-decoration-color: #008000\">'JWN'</span>: <span style=\"color: #008000; text-decoration-color: #008000\">'NORDSTROM'</span>,\n",
       "    <span style=\"color: #008000; text-decoration-color: #008000\">'TEN'</span>: <span style=\"color: #008000; text-decoration-color: #008000\">'Tsakos Energy'</span>,\n",
       "    <span style=\"color: #008000; text-decoration-color: #008000\">'BURL'</span>: <span style=\"color: #008000; text-decoration-color: #008000\">'BURLINGTON STORES'</span>,\n",
       "    <span style=\"color: #008000; text-decoration-color: #008000\">'CRWD'</span>: <span style=\"color: #008000; text-decoration-color: #008000\">'CROWDSTRIKE HOLDINGS'</span>,\n",
       "    <span style=\"color: #008000; text-decoration-color: #008000\">'BBY'</span>: <span style=\"color: #008000; text-decoration-color: #008000\">'BEST BUY CO'</span>,\n",
       "    <span style=\"color: #008000; text-decoration-color: #008000\">'HPQ'</span>: <span style=\"color: #008000; text-decoration-color: #008000\">'HP'</span>,\n",
       "    <span style=\"color: #008000; text-decoration-color: #008000\">'YY'</span>: <span style=\"color: #008000; text-decoration-color: #008000\">'JOYY'</span>,\n",
       "    <span style=\"color: #008000; text-decoration-color: #008000\">'ADSK'</span>: <span style=\"color: #008000; text-decoration-color: #008000\">'AUTODESK'</span>,\n",
       "    <span style=\"color: #008000; text-decoration-color: #008000\">'SJM'</span>: <span style=\"color: #008000; text-decoration-color: #008000\">'J M SMUCKER'</span>,\n",
       "    <span style=\"color: #008000; text-decoration-color: #008000\">'M'</span>: <span style=\"color: #008000; text-decoration-color: #008000\">\"MACY'S\"</span>,\n",
       "    <span style=\"color: #008000; text-decoration-color: #008000\">'MANU'</span>: <span style=\"color: #008000; text-decoration-color: #008000\">'MANCHESTER UNITED'</span>,\n",
       "    <span style=\"color: #008000; text-decoration-color: #008000\">'ADI'</span>: <span style=\"color: #008000; text-decoration-color: #008000\">'ANALOG DEVICES'</span>\n",
       "<span style=\"font-weight: bold\">}</span>\n",
       "</pre>\n"
      ],
      "text/plain": [
       "\u001b[1m{\u001b[0m\n",
       "    \u001b[32m'ZH'\u001b[0m: \u001b[32m'ZHIHU'\u001b[0m,\n",
       "    \u001b[32m'DDD'\u001b[0m: \u001b[32m'3D SYSTEMS'\u001b[0m,\n",
       "    \u001b[32m'EMBC'\u001b[0m: \u001b[32m'EMBECTA'\u001b[0m,\n",
       "    \u001b[32m'MDWD'\u001b[0m: \u001b[32m'MEDIWOUND'\u001b[0m,\n",
       "    \u001b[32m'TITN'\u001b[0m: \u001b[32m'TITAN MACHINERY'\u001b[0m,\n",
       "    \u001b[32m'NOAH'\u001b[0m: \u001b[32m'NOAH HOLDINGS'\u001b[0m,\n",
       "    \u001b[32m'PD'\u001b[0m: \u001b[32m'PAGERDUTY'\u001b[0m,\n",
       "    \u001b[32m'ARWR'\u001b[0m: \u001b[32m'ARROWHEAD PHARMACEUTICALS'\u001b[0m,\n",
       "    \u001b[32m'IREN'\u001b[0m: \u001b[32m'IRIS ENERGY'\u001b[0m,\n",
       "    \u001b[32m'GES'\u001b[0m: \u001b[32m'GUESS'\u001b[0m,\n",
       "    \u001b[32m'ANF'\u001b[0m: \u001b[32m'ABERCROMBIE & FITCH'\u001b[0m,\n",
       "    \u001b[32m'KSS'\u001b[0m: \u001b[32m'KOHLS'\u001b[0m,\n",
       "    \u001b[32m'AMBA'\u001b[0m: \u001b[32m'AMBARELLA'\u001b[0m,\n",
       "    \u001b[32m'NTNX'\u001b[0m: \u001b[32m'NUTANIX'\u001b[0m,\n",
       "    \u001b[32m'DKS'\u001b[0m: \u001b[32m\"DICK'S SPORTING GOODS\"\u001b[0m,\n",
       "    \u001b[32m'AMWD'\u001b[0m: \u001b[32m'AMERICAN WOODMARK'\u001b[0m,\n",
       "    \u001b[32m'URBN'\u001b[0m: \u001b[32m'URBAN OUTFITTERS'\u001b[0m,\n",
       "    \u001b[32m'HTHT'\u001b[0m: \u001b[32m'H WORLD GROUP'\u001b[0m,\n",
       "    \u001b[32m'DELL'\u001b[0m: \u001b[32m'DELL TECHNOLOGIES'\u001b[0m,\n",
       "    \u001b[32m'WDAY'\u001b[0m: \u001b[32m'WORKDAY'\u001b[0m,\n",
       "    \u001b[32m'JWN'\u001b[0m: \u001b[32m'NORDSTROM'\u001b[0m,\n",
       "    \u001b[32m'TEN'\u001b[0m: \u001b[32m'Tsakos Energy'\u001b[0m,\n",
       "    \u001b[32m'BURL'\u001b[0m: \u001b[32m'BURLINGTON STORES'\u001b[0m,\n",
       "    \u001b[32m'CRWD'\u001b[0m: \u001b[32m'CROWDSTRIKE HOLDINGS'\u001b[0m,\n",
       "    \u001b[32m'BBY'\u001b[0m: \u001b[32m'BEST BUY CO'\u001b[0m,\n",
       "    \u001b[32m'HPQ'\u001b[0m: \u001b[32m'HP'\u001b[0m,\n",
       "    \u001b[32m'YY'\u001b[0m: \u001b[32m'JOYY'\u001b[0m,\n",
       "    \u001b[32m'ADSK'\u001b[0m: \u001b[32m'AUTODESK'\u001b[0m,\n",
       "    \u001b[32m'SJM'\u001b[0m: \u001b[32m'J M SMUCKER'\u001b[0m,\n",
       "    \u001b[32m'M'\u001b[0m: \u001b[32m\"MACY'S\"\u001b[0m,\n",
       "    \u001b[32m'MANU'\u001b[0m: \u001b[32m'MANCHESTER UNITED'\u001b[0m,\n",
       "    \u001b[32m'ADI'\u001b[0m: \u001b[32m'ANALOG DEVICES'\u001b[0m\n",
       "\u001b[1m}\u001b[0m\n"
      ]
     },
     "metadata": {},
     "output_type": "display_data"
    }
   ],
   "source": [
    "earnings_tickers = earnings_df['symbol'].to_list()\n",
    "full_names = earnings_df['full_name'].to_list()\n",
    "tickers_and_names = {ticker: name for ticker, name in zip(earnings_tickers, full_names)}\n",
    "print(tickers_and_names)"
   ]
  },
  {
   "cell_type": "markdown",
   "metadata": {},
   "source": [
    "**DELL has seen quite a journey since early August, from $88 to $144 in under 4 months.**\n",
    "\n",
    "Let's experiment with a new endpoint, from the Institutional collection:\n",
    "\n",
    "[https://api.unusualwhales.com/docs#/operations/PublicApi.InstitutionController.ownership](https://api.unusualwhales.com/docs#/operations/PublicApi.InstitutionController.ownership)\n",
    "\n",
    "We pass in a `ticker` and get back institutions that have a footprint there, with some variations all applying to the latest quarter (ending Sep 30th):\n",
    "\n",
    "- Closing a previously-existing position\n",
    "- Opening a new position\n",
    "- Adding to an existing position\n",
    "- Holding an existing position steady\n",
    "\n",
    "Let's bust a move:"
   ]
  },
  {
   "cell_type": "code",
   "execution_count": 4,
   "metadata": {},
   "outputs": [],
   "source": [
    "# Secret tip from the guy who manually identified key institutional players:\n",
    "# this list of tags will limit the enormous universe of institutions down\n",
    "# to a punchy group of interesting firms.\n",
    "tags = [\n",
    "    '13d_activist', 'activist', 'value_investor', 'small_cap', 'biotech',\n",
    "    'credit', 'technology', 'tiger_club', 'energy', 'esg', 'event'\n",
    "]\n",
    "\n",
    "dfs = []\n",
    "tickers_with_no_io = []\n",
    "for idx, ticker in enumerate(earnings_tickers):\n",
    "    io_url = f'https://api.unusualwhales.com/api/institution/{ticker}/ownership'\n",
    "    io_params = {\n",
    "        'tags[]': tags,\n",
    "    }\n",
    "    io_r = requests.get(io_url, headers=headers, params=io_params)\n",
    "    if len(io_r.json()['data']) > 0:\n",
    "        raw_df = pl.DataFrame(io_r.json()['data'])\n",
    "        df = (\n",
    "            raw_df\n",
    "            .with_columns(\n",
    "                pl.lit(ticker).alias('ticker'),\n",
    "                pl.col('shares_outstanding').cast(pl.String).fill_null('')\n",
    "            )\n",
    "        )\n",
    "        dfs.append(df)\n",
    "        schema = str(df.schema)\n",
    "    else:\n",
    "        tickers_with_no_io.append(ticker)\n",
    "\n",
    "io_df = pl.concat(dfs)"
   ]
  },
  {
   "cell_type": "markdown",
   "metadata": {},
   "source": [
    "OK, after a little fancy footwork to account for some international stocks where UW does not have outstanding share count (yet), we have combined all the responses into a single polars dataframe named `io_dfs`.\n",
    "\n",
    "Before we move on forward, let's do a quick check on to see if any of the tickers did not have institutional ownership:"
   ]
  },
  {
   "cell_type": "code",
   "execution_count": 5,
   "metadata": {},
   "outputs": [
    {
     "data": {
      "text/html": [
       "<pre style=\"white-space:pre;overflow-x:auto;line-height:normal;font-family:Menlo,'DejaVu Sans Mono',consolas,'Courier New',monospace\"><span style=\"font-weight: bold\">[</span><span style=\"color: #008000; text-decoration-color: #008000\">'ZH'</span><span style=\"font-weight: bold\">]</span>\n",
       "</pre>\n"
      ],
      "text/plain": [
       "\u001b[1m[\u001b[0m\u001b[32m'ZH'\u001b[0m\u001b[1m]\u001b[0m\n"
      ]
     },
     "metadata": {},
     "output_type": "display_data"
    }
   ],
   "source": [
    "print(tickers_with_no_io)"
   ]
  },
  {
   "cell_type": "markdown",
   "metadata": {},
   "source": [
    "Nothing of concern there with the single ticker showing no institutional ownership, `ZH`.\n",
    "\n",
    "**Let's pick `DELL` for the rest of this example:** we want to see which institutions closed their `DELL` positions, which institutions opened new `DELL` positions, and which ones added to existing positions... and maybe at the end we can look at \"static\" positions too."
   ]
  },
  {
   "cell_type": "code",
   "execution_count": 6,
   "metadata": {},
   "outputs": [
    {
     "data": {
      "text/html": [
       "<div><style>\n",
       ".dataframe > thead > tr,\n",
       ".dataframe > tbody > tr {\n",
       "  text-align: right;\n",
       "  white-space: pre-wrap;\n",
       "}\n",
       "</style>\n",
       "<small>shape: (5, 15)</small><table border=\"1\" class=\"dataframe\"><thead><tr><th>avg_price</th><th>first_buy</th><th>historical_units</th><th>inst_share_value</th><th>inst_value</th><th>name</th><th>people</th><th>report_date</th><th>shares_outstanding</th><th>short_name</th><th>tags</th><th>units</th><th>units_changed</th><th>value</th><th>ticker</th></tr><tr><td>str</td><td>str</td><td>list[i64]</td><td>str</td><td>str</td><td>str</td><td>list[str]</td><td>str</td><td>str</td><td>str</td><td>list[str]</td><td>i64</td><td>i64</td><td>i64</td><td>str</td></tr></thead><tbody><tr><td>null</td><td>&quot;2022-09-30&quot;</td><td>[0, 2388359, … 4508189]</td><td>&quot;27759423751&quot;</td><td>&quot;39343262001&quot;</td><td>&quot;POINT72 ASSET …</td><td>[&quot;Steven Cohen&quot;]</td><td>&quot;2024-09-30&quot;</td><td>&quot;307762769&quot;</td><td>&quot;Point72 Asset …</td><td>[&quot;activist&quot;]</td><td>0</td><td>-2388359</td><td>0</td><td>&quot;DELL&quot;</td></tr><tr><td>null</td><td>&quot;2024-06-30&quot;</td><td>[0, 126279, … 0]</td><td>&quot;404051553&quot;</td><td>&quot;422582142&quot;</td><td>&quot;LIGHT STREET C…</td><td>[&quot;Glen Kacher&quot;]</td><td>&quot;2024-09-30&quot;</td><td>&quot;307762769&quot;</td><td>&quot;Light Street C…</td><td>[&quot;activist&quot;, &quot;tiger_club&quot;, &quot;technology&quot;]</td><td>0</td><td>-126279</td><td>0</td><td>&quot;DELL&quot;</td></tr><tr><td>null</td><td>&quot;2024-06-30&quot;</td><td>[0, 34720, … 0]</td><td>&quot;14055650749&quot;</td><td>&quot;17658794959&quot;</td><td>&quot;BRIDGEWATER AS…</td><td>[&quot;Ray Dalio&quot;]</td><td>&quot;2024-09-30&quot;</td><td>&quot;307762769&quot;</td><td>&quot;Bridgewater As…</td><td>[&quot;13d_activist&quot;]</td><td>0</td><td>-34720</td><td>0</td><td>&quot;DELL&quot;</td></tr><tr><td>null</td><td>&quot;2024-06-30&quot;</td><td>[0, 19703, … 0]</td><td>&quot;3810553458&quot;</td><td>&quot;4617003629&quot;</td><td>&quot;MAGNETAR FINAN…</td><td>[&quot;Alec Litowitz&quot;, &quot;Ross Laser&quot;]</td><td>&quot;2024-09-30&quot;</td><td>&quot;307762769&quot;</td><td>&quot;Magnetar Finan…</td><td>[&quot;13d_activist&quot;, &quot;energy&quot;, … &quot;credit&quot;]</td><td>0</td><td>-19703</td><td>0</td><td>&quot;DELL&quot;</td></tr><tr><td>null</td><td>&quot;2024-06-30&quot;</td><td>[0, 3780, … 0]</td><td>&quot;447103807&quot;</td><td>&quot;486683812&quot;</td><td>&quot;CANNELL CAPITA…</td><td>[&quot;Carlo Cannell&quot;]</td><td>&quot;2024-09-30&quot;</td><td>&quot;307762769&quot;</td><td>&quot;Cannell Capita…</td><td>[&quot;activist&quot;, &quot;small_cap&quot;]</td><td>0</td><td>-3780</td><td>0</td><td>&quot;DELL&quot;</td></tr></tbody></table></div>"
      ],
      "text/plain": [
       "shape: (5, 15)\n",
       "┌───────────┬────────────┬──────────────┬──────────────┬───┬───────┬──────────────┬───────┬────────┐\n",
       "│ avg_price ┆ first_buy  ┆ historical_u ┆ inst_share_v ┆ … ┆ units ┆ units_change ┆ value ┆ ticker │\n",
       "│ ---       ┆ ---        ┆ nits         ┆ alue         ┆   ┆ ---   ┆ d            ┆ ---   ┆ ---    │\n",
       "│ str       ┆ str        ┆ ---          ┆ ---          ┆   ┆ i64   ┆ ---          ┆ i64   ┆ str    │\n",
       "│           ┆            ┆ list[i64]    ┆ str          ┆   ┆       ┆ i64          ┆       ┆        │\n",
       "╞═══════════╪════════════╪══════════════╪══════════════╪═══╪═══════╪══════════════╪═══════╪════════╡\n",
       "│ null      ┆ 2022-09-30 ┆ [0, 2388359, ┆ 27759423751  ┆ … ┆ 0     ┆ -2388359     ┆ 0     ┆ DELL   │\n",
       "│           ┆            ┆ … 4508189]   ┆              ┆   ┆       ┆              ┆       ┆        │\n",
       "│ null      ┆ 2024-06-30 ┆ [0, 126279,  ┆ 404051553    ┆ … ┆ 0     ┆ -126279      ┆ 0     ┆ DELL   │\n",
       "│           ┆            ┆ … 0]         ┆              ┆   ┆       ┆              ┆       ┆        │\n",
       "│ null      ┆ 2024-06-30 ┆ [0, 34720, … ┆ 14055650749  ┆ … ┆ 0     ┆ -34720       ┆ 0     ┆ DELL   │\n",
       "│           ┆            ┆ 0]           ┆              ┆   ┆       ┆              ┆       ┆        │\n",
       "│ null      ┆ 2024-06-30 ┆ [0, 19703, … ┆ 3810553458   ┆ … ┆ 0     ┆ -19703       ┆ 0     ┆ DELL   │\n",
       "│           ┆            ┆ 0]           ┆              ┆   ┆       ┆              ┆       ┆        │\n",
       "│ null      ┆ 2024-06-30 ┆ [0, 3780, …  ┆ 447103807    ┆ … ┆ 0     ┆ -3780        ┆ 0     ┆ DELL   │\n",
       "│           ┆            ┆ 0]           ┆              ┆   ┆       ┆              ┆       ┆        │\n",
       "└───────────┴────────────┴──────────────┴──────────────┴───┴───────┴──────────────┴───────┴────────┘"
      ]
     },
     "execution_count": 6,
     "metadata": {},
     "output_type": "execute_result"
    }
   ],
   "source": [
    "closed_dell_df = (\n",
    "    io_df\n",
    "    .filter(\n",
    "        (pl.col('ticker') == 'DELL') &\n",
    "        (pl.col('units') == 0)\n",
    "    )\n",
    "    .sort('units_changed', descending=False)\n",
    ")\n",
    "closed_dell_df"
   ]
  },
  {
   "cell_type": "markdown",
   "metadata": {},
   "source": [
    "**Who closed their existing `DELL` positions as of EOQ Sep 30th?**\n",
    "\n",
    "- Point72 (Steven Cohen)\n",
    "- Light Street (\"Tiger Cub\" Glen Kacher)\n",
    "- Bridgewater (Ray Dalio, has since retired)\n",
    "- Magnetar (Alec Litowitz and Ross Laser)\n",
    "- Cannell (Carlo Cannell)\n",
    "\n",
    "We can see that Point72 has closed a large (notionally-speaking anyway) holding: the firm sold approximately 2.39 million shares this past quarter on a position they opened in the quarter ending 2022-09-30... impressive trade and worth noting that they closed ALL their holdings.\n",
    "\n",
    "**Let's look at the other side of the coin, firms that opened new positions this past quarter:**"
   ]
  },
  {
   "cell_type": "code",
   "execution_count": 7,
   "metadata": {},
   "outputs": [
    {
     "data": {
      "text/html": [
       "<div><style>\n",
       ".dataframe > thead > tr,\n",
       ".dataframe > tbody > tr {\n",
       "  text-align: right;\n",
       "  white-space: pre-wrap;\n",
       "}\n",
       "</style>\n",
       "<small>shape: (1, 15)</small><table border=\"1\" class=\"dataframe\"><thead><tr><th>avg_price</th><th>first_buy</th><th>historical_units</th><th>inst_share_value</th><th>inst_value</th><th>name</th><th>people</th><th>report_date</th><th>shares_outstanding</th><th>short_name</th><th>tags</th><th>units</th><th>units_changed</th><th>value</th><th>ticker</th></tr><tr><td>str</td><td>str</td><td>list[i64]</td><td>str</td><td>str</td><td>str</td><td>list[str]</td><td>str</td><td>str</td><td>str</td><td>list[str]</td><td>i64</td><td>i64</td><td>i64</td><td>str</td></tr></thead><tbody><tr><td>&quot;115.53&quot;</td><td>&quot;2024-09-30&quot;</td><td>[176200, 0, … 0]</td><td>&quot;56601576463.0&quot;</td><td>&quot;56635136796.0&quot;</td><td>&quot;ADAGE CAPITAL …</td><td>[&quot;Robert Atchinson&quot;, &quot;Phillip Gross&quot;]</td><td>&quot;2024-09-30&quot;</td><td>&quot;307762769&quot;</td><td>&quot;Adage Capital …</td><td>[&quot;13d_activist&quot;]</td><td>176200</td><td>176200</td><td>20886748</td><td>&quot;DELL&quot;</td></tr></tbody></table></div>"
      ],
      "text/plain": [
       "shape: (1, 15)\n",
       "┌───────────┬────────────┬─────────────┬─────────────┬───┬────────┬────────────┬──────────┬────────┐\n",
       "│ avg_price ┆ first_buy  ┆ historical_ ┆ inst_share_ ┆ … ┆ units  ┆ units_chan ┆ value    ┆ ticker │\n",
       "│ ---       ┆ ---        ┆ units       ┆ value       ┆   ┆ ---    ┆ ged        ┆ ---      ┆ ---    │\n",
       "│ str       ┆ str        ┆ ---         ┆ ---         ┆   ┆ i64    ┆ ---        ┆ i64      ┆ str    │\n",
       "│           ┆            ┆ list[i64]   ┆ str         ┆   ┆        ┆ i64        ┆          ┆        │\n",
       "╞═══════════╪════════════╪═════════════╪═════════════╪═══╪════════╪════════════╪══════════╪════════╡\n",
       "│ 115.53    ┆ 2024-09-30 ┆ [176200, 0, ┆ 56601576463 ┆ … ┆ 176200 ┆ 176200     ┆ 20886748 ┆ DELL   │\n",
       "│           ┆            ┆ … 0]        ┆ .0          ┆   ┆        ┆            ┆          ┆        │\n",
       "└───────────┴────────────┴─────────────┴─────────────┴───┴────────┴────────────┴──────────┴────────┘"
      ]
     },
     "execution_count": 7,
     "metadata": {},
     "output_type": "execute_result"
    }
   ],
   "source": [
    "new_dell_df = (\n",
    "    io_df\n",
    "    .filter(\n",
    "        (pl.col('ticker') == 'DELL') &\n",
    "        (pl.col('units') > 0) &\n",
    "        (pl.col('first_buy') == '2024-09-30')\n",
    "    )\n",
    ")\n",
    "new_dell_df"
   ]
  },
  {
   "cell_type": "markdown",
   "metadata": {},
   "source": [
    "**Who opened new longs in `DELL` as of EOQ Sep 30th?**\n",
    "\n",
    "- Adage (Robert Atchinson and Philip Gross)\n",
    "\n",
    "Interesting, we can see Adage bought approximately 176,000 shares of `DELL` this past quarter. Adage is incredibly secretive, but their track record is known industry-wide: when the manager of Harvard University's takes a new position, it's noteworthy.\n",
    "\n",
    "**Let's see if any institutions added to existing positions in `DELL` this past quarter:**\n",
    "\n",
    "(after all, there was a significant pullback into the early August correlation one sell-off)"
   ]
  },
  {
   "cell_type": "code",
   "execution_count": 8,
   "metadata": {},
   "outputs": [
    {
     "data": {
      "text/html": [
       "<div><style>\n",
       ".dataframe > thead > tr,\n",
       ".dataframe > tbody > tr {\n",
       "  text-align: right;\n",
       "  white-space: pre-wrap;\n",
       "}\n",
       "</style>\n",
       "<small>shape: (6, 15)</small><table border=\"1\" class=\"dataframe\"><thead><tr><th>avg_price</th><th>first_buy</th><th>historical_units</th><th>inst_share_value</th><th>inst_value</th><th>name</th><th>people</th><th>report_date</th><th>shares_outstanding</th><th>short_name</th><th>tags</th><th>units</th><th>units_changed</th><th>value</th><th>ticker</th></tr><tr><td>str</td><td>str</td><td>list[i64]</td><td>str</td><td>str</td><td>str</td><td>list[str]</td><td>str</td><td>str</td><td>str</td><td>list[str]</td><td>i64</td><td>i64</td><td>i64</td><td>str</td></tr></thead><tbody><tr><td>&quot;82.67&quot;</td><td>&quot;2023-06-30&quot;</td><td>[2146777, 1447573, … 0]</td><td>&quot;17794627077&quot;</td><td>&quot;58348942078&quot;</td><td>&quot;ALKEON CAPITAL…</td><td>[&quot;Panayotis “Takis” Sparaggis&quot;]</td><td>&quot;2024-09-30&quot;</td><td>&quot;307762769&quot;</td><td>&quot;&quot;</td><td>[&quot;technology&quot;]</td><td>2146777</td><td>699204</td><td>254478946</td><td>&quot;DELL&quot;</td></tr><tr><td>&quot;93&quot;</td><td>&quot;2022-09-30&quot;</td><td>[646196, 342054, … 146624]</td><td>&quot;66460868115.0&quot;</td><td>&quot;116492369102.0…</td><td>&quot;D. E. SHAW &amp; C…</td><td>[&quot;David Shaw&quot;]</td><td>&quot;2024-09-30&quot;</td><td>&quot;307762769&quot;</td><td>&quot;D.E. Shaw&quot;</td><td>[&quot;13d_activist&quot;]</td><td>646196</td><td>304142</td><td>76600074</td><td>&quot;DELL&quot;</td></tr><tr><td>&quot;107.39&quot;</td><td>&quot;2024-03-31&quot;</td><td>[312870, 256325, … 0]</td><td>&quot;126914340970&quot;</td><td>&quot;127163204011&quot;</td><td>&quot;CLEARBRIDGE IN…</td><td>[&quot;Terrence Murphy&quot;]</td><td>&quot;2024-09-30&quot;</td><td>&quot;307762769&quot;</td><td>&quot;Clearbridge In…</td><td>[&quot;activist&quot;]</td><td>312870</td><td>56545</td><td>37087610</td><td>&quot;DELL&quot;</td></tr><tr><td>&quot;123.29&quot;</td><td>&quot;2024-03-31&quot;</td><td>[33966, 15712, … 0]</td><td>&quot;5128678280&quot;</td><td>&quot;5128708760&quot;</td><td>&quot;MAVERICK CAPIT…</td><td>[&quot;Lee Ainslie&quot;]</td><td>&quot;2024-09-30&quot;</td><td>&quot;307762769&quot;</td><td>&quot;Maverick Capit…</td><td>[&quot;activist&quot;, &quot;tiger_club&quot;]</td><td>33966</td><td>18254</td><td>4026330</td><td>&quot;DELL&quot;</td></tr><tr><td>null</td><td>&quot;2021-06-30&quot;</td><td>[23391, 21696, … 846571]</td><td>&quot;36463931599&quot;</td><td>&quot;61306204232&quot;</td><td>&quot;BALYASNY ASSET…</td><td>[&quot;Dmitry Balyasny&quot;, &quot;Scott Schroeder&quot;, &quot;Taylor O&#x27;Malley&quot;]</td><td>&quot;2024-09-30&quot;</td><td>&quot;307762769&quot;</td><td>&quot;Balyasny Asset…</td><td>[&quot;activist&quot;]</td><td>23391</td><td>1695</td><td>2772769</td><td>&quot;DELL&quot;</td></tr><tr><td>&quot;106.1&quot;</td><td>&quot;2023-12-31&quot;</td><td>[1128, 266, … 0]</td><td>&quot;79316910&quot;</td><td>&quot;252652870&quot;</td><td>&quot;SACHETTA, LLC&quot;</td><td>[]</td><td>&quot;2024-09-30&quot;</td><td>&quot;307762769&quot;</td><td>&quot;Sachetta&quot;</td><td>[&quot;activist&quot;]</td><td>1128</td><td>862</td><td>133714</td><td>&quot;DELL&quot;</td></tr></tbody></table></div>"
      ],
      "text/plain": [
       "shape: (6, 15)\n",
       "┌───────────┬────────────┬────────────┬────────────┬───┬─────────┬────────────┬───────────┬────────┐\n",
       "│ avg_price ┆ first_buy  ┆ historical ┆ inst_share ┆ … ┆ units   ┆ units_chan ┆ value     ┆ ticker │\n",
       "│ ---       ┆ ---        ┆ _units     ┆ _value     ┆   ┆ ---     ┆ ged        ┆ ---       ┆ ---    │\n",
       "│ str       ┆ str        ┆ ---        ┆ ---        ┆   ┆ i64     ┆ ---        ┆ i64       ┆ str    │\n",
       "│           ┆            ┆ list[i64]  ┆ str        ┆   ┆         ┆ i64        ┆           ┆        │\n",
       "╞═══════════╪════════════╪════════════╪════════════╪═══╪═════════╪════════════╪═══════════╪════════╡\n",
       "│ 82.67     ┆ 2023-06-30 ┆ [2146777,  ┆ 1779462707 ┆ … ┆ 2146777 ┆ 699204     ┆ 254478946 ┆ DELL   │\n",
       "│           ┆            ┆ 1447573, … ┆ 7          ┆   ┆         ┆            ┆           ┆        │\n",
       "│           ┆            ┆ 0]         ┆            ┆   ┆         ┆            ┆           ┆        │\n",
       "│ 93        ┆ 2022-09-30 ┆ [646196,   ┆ 6646086811 ┆ … ┆ 646196  ┆ 304142     ┆ 76600074  ┆ DELL   │\n",
       "│           ┆            ┆ 342054, …  ┆ 5.0        ┆   ┆         ┆            ┆           ┆        │\n",
       "│           ┆            ┆ 146624]    ┆            ┆   ┆         ┆            ┆           ┆        │\n",
       "│ 107.39    ┆ 2024-03-31 ┆ [312870,   ┆ 1269143409 ┆ … ┆ 312870  ┆ 56545      ┆ 37087610  ┆ DELL   │\n",
       "│           ┆            ┆ 256325, …  ┆ 70         ┆   ┆         ┆            ┆           ┆        │\n",
       "│           ┆            ┆ 0]         ┆            ┆   ┆         ┆            ┆           ┆        │\n",
       "│ 123.29    ┆ 2024-03-31 ┆ [33966,    ┆ 5128678280 ┆ … ┆ 33966   ┆ 18254      ┆ 4026330   ┆ DELL   │\n",
       "│           ┆            ┆ 15712, …   ┆            ┆   ┆         ┆            ┆           ┆        │\n",
       "│           ┆            ┆ 0]         ┆            ┆   ┆         ┆            ┆           ┆        │\n",
       "│ null      ┆ 2021-06-30 ┆ [23391,    ┆ 3646393159 ┆ … ┆ 23391   ┆ 1695       ┆ 2772769   ┆ DELL   │\n",
       "│           ┆            ┆ 21696, …   ┆ 9          ┆   ┆         ┆            ┆           ┆        │\n",
       "│           ┆            ┆ 846571]    ┆            ┆   ┆         ┆            ┆           ┆        │\n",
       "│ 106.1     ┆ 2023-12-31 ┆ [1128,     ┆ 79316910   ┆ … ┆ 1128    ┆ 862        ┆ 133714    ┆ DELL   │\n",
       "│           ┆            ┆ 266, … 0]  ┆            ┆   ┆         ┆            ┆           ┆        │\n",
       "└───────────┴────────────┴────────────┴────────────┴───┴─────────┴────────────┴───────────┴────────┘"
      ]
     },
     "execution_count": 8,
     "metadata": {},
     "output_type": "execute_result"
    }
   ],
   "source": [
    "add_dell_df = (\n",
    "    io_df\n",
    "    .filter(\n",
    "        (pl.col('ticker') == 'DELL') &\n",
    "        (pl.col('units_changed') > 0) &\n",
    "        (pl.col('first_buy') != '2024-09-30')\n",
    "    )\n",
    ")\n",
    "add_dell_df"
   ]
  },
  {
   "cell_type": "markdown",
   "metadata": {},
   "source": [
    "**Who added to existing `DELL` positions as of EOQ Sep 30th?**\n",
    "\n",
    "- Alkeon (Panoyotis 'Takis' Sparaggis)\n",
    "- D.E. Shaw (David Shaw)\n",
    "- Clearbridge (Terrence Murphy)\n",
    "- Maverick (\"Tiger Cub\" Lee Ainslie)\n",
    "- Balyasny (Dmitry Balyasny)\n",
    "\n",
    "I'm quite interested in Alkeon's add here as a Technology-specialist. They have built up their size to nearly Point72 in nominal terms, and it's an interesting contrast to see them increasing their position by roughly +50%.\n",
    "\n",
    "**Let's round this out by identifying any institutions who continue to hold `DELL` with no change to the overall position:**"
   ]
  },
  {
   "cell_type": "code",
   "execution_count": 9,
   "metadata": {},
   "outputs": [
    {
     "data": {
      "text/html": [
       "<div><style>\n",
       ".dataframe > thead > tr,\n",
       ".dataframe > tbody > tr {\n",
       "  text-align: right;\n",
       "  white-space: pre-wrap;\n",
       "}\n",
       "</style>\n",
       "<small>shape: (0, 15)</small><table border=\"1\" class=\"dataframe\"><thead><tr><th>avg_price</th><th>first_buy</th><th>historical_units</th><th>inst_share_value</th><th>inst_value</th><th>name</th><th>people</th><th>report_date</th><th>shares_outstanding</th><th>short_name</th><th>tags</th><th>units</th><th>units_changed</th><th>value</th><th>ticker</th></tr><tr><td>str</td><td>str</td><td>list[i64]</td><td>str</td><td>str</td><td>str</td><td>list[str]</td><td>str</td><td>str</td><td>str</td><td>list[str]</td><td>i64</td><td>i64</td><td>i64</td><td>str</td></tr></thead><tbody></tbody></table></div>"
      ],
      "text/plain": [
       "shape: (0, 15)\n",
       "┌───────────┬───────────┬───────────────┬──────────────┬───┬───────┬──────────────┬───────┬────────┐\n",
       "│ avg_price ┆ first_buy ┆ historical_un ┆ inst_share_v ┆ … ┆ units ┆ units_change ┆ value ┆ ticker │\n",
       "│ ---       ┆ ---       ┆ its           ┆ alue         ┆   ┆ ---   ┆ d            ┆ ---   ┆ ---    │\n",
       "│ str       ┆ str       ┆ ---           ┆ ---          ┆   ┆ i64   ┆ ---          ┆ i64   ┆ str    │\n",
       "│           ┆           ┆ list[i64]     ┆ str          ┆   ┆       ┆ i64          ┆       ┆        │\n",
       "╞═══════════╪═══════════╪═══════════════╪══════════════╪═══╪═══════╪══════════════╪═══════╪════════╡\n",
       "└───────────┴───────────┴───────────────┴──────────────┴───┴───────┴──────────────┴───────┴────────┘"
      ]
     },
     "execution_count": 9,
     "metadata": {},
     "output_type": "execute_result"
    }
   ],
   "source": [
    "flat_dell_df = (\n",
    "    io_df\n",
    "    .filter(\n",
    "        (pl.col('ticker') == 'DELL') &\n",
    "        (pl.col('units_changed') == 0) &\n",
    "        (pl.col('first_buy') != '2024-09-30')\n",
    "    )\n",
    ")\n",
    "flat_dell_df"
   ]
  },
  {
   "cell_type": "markdown",
   "metadata": {},
   "source": [
    "**Empty!**\n",
    "\n",
    "Turns out `DELL` was a good pick for this review, since it's clearly a polarizing ticker: there was not a single fund in our set of activists and specialists with a static holding in `DELL`."
   ]
  }
 ],
 "metadata": {
  "kernelspec": {
   "display_name": "dans-magic-house-uvW-KuUb-py3.12",
   "language": "python",
   "name": "python3"
  },
  "language_info": {
   "codemirror_mode": {
    "name": "ipython",
    "version": 3
   },
   "file_extension": ".py",
   "mimetype": "text/x-python",
   "name": "python",
   "nbconvert_exporter": "python",
   "pygments_lexer": "ipython3",
   "version": "3.12.3"
  }
 },
 "nbformat": 4,
 "nbformat_minor": 2
}
