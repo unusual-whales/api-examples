{
 "cells": [
  {
   "cell_type": "code",
   "execution_count": 1,
   "id": "3cde8321",
   "metadata": {},
   "outputs": [
    {
     "data": {
      "text/html": [
       "\n",
       "            <div id=\"eQjRaA\"></div>\n",
       "            <script type=\"text/javascript\" data-lets-plot-script=\"library\">\n",
       "                if(!window.letsPlotCallQueue) {\n",
       "                    window.letsPlotCallQueue = [];\n",
       "                }; \n",
       "                window.letsPlotCall = function(f) {\n",
       "                    window.letsPlotCallQueue.push(f);\n",
       "                };\n",
       "                (function() {\n",
       "                    var script = document.createElement(\"script\");\n",
       "                    script.type = \"text/javascript\";\n",
       "                    script.src = \"https://cdn.jsdelivr.net/gh/JetBrains/lets-plot@v4.3.3/js-package/distr/lets-plot.min.js\";\n",
       "                    script.onload = function() {\n",
       "                        window.letsPlotCall = function(f) {f();};\n",
       "                        window.letsPlotCallQueue.forEach(function(f) {f();});\n",
       "                        window.letsPlotCallQueue = [];\n",
       "                        \n",
       "                    };\n",
       "                    script.onerror = function(event) {\n",
       "                        window.letsPlotCall = function(f) {};    // noop\n",
       "                        window.letsPlotCallQueue = [];\n",
       "                        var div = document.createElement(\"div\");\n",
       "                        div.style.color = 'darkred';\n",
       "                        div.textContent = 'Error loading Lets-Plot JS';\n",
       "                        document.getElementById(\"eQjRaA\").appendChild(div);\n",
       "                    };\n",
       "                    var e = document.getElementById(\"eQjRaA\");\n",
       "                    e.appendChild(script);\n",
       "                })()\n",
       "            </script>\n",
       "            "
      ]
     },
     "metadata": {},
     "output_type": "display_data"
    }
   ],
   "source": [
    "import os\n",
    "import httpx\n",
    "import polars as pl\n",
    "from lets_plot import *\n",
    "LetsPlot.setup_html()"
   ]
  },
  {
   "cell_type": "code",
   "execution_count": 2,
   "id": "27d03069",
   "metadata": {},
   "outputs": [],
   "source": [
    "uw_token = os.getenv('UW_TOKEN')  # Set this to your own token 'abc123etc'\n",
    "headers = {'Accept': 'application/json, text/plain', 'Authorization': uw_token}"
   ]
  },
  {
   "cell_type": "markdown",
   "id": "8e07936a",
   "metadata": {},
   "source": [
    "While the Unusual Whales API does not explicitly offer a \"Top Not Impact Chart\" endpoint, it can be replicated using the screener/Stock Screener endpoint:\n",
    "\n",
    "[https://api.unusualwhales.com/docs#/operations/PublicApi.ScreenerController.stock_screener](https://api.unusualwhales.com/docs#/operations/PublicApi.ScreenerController.stock_screener)\n",
    "\n",
    "(Personal note from Dan: this endpoint is criminally underused, it is the swiss army knife of filtering.)\n",
    "\n",
    "It takes a lot of scrolling, but it's worth it; make your way all the way down to the `order` query param and you will see what I mean.\n",
    "\n",
    "Let's start by collecting tickers with the most positive net premiums:"
   ]
  },
  {
   "cell_type": "code",
   "execution_count": 3,
   "id": "be2c0c90",
   "metadata": {},
   "outputs": [
    {
     "data": {
      "text/plain": [
       "200"
      ]
     },
     "execution_count": 3,
     "metadata": {},
     "output_type": "execute_result"
    }
   ],
   "source": [
    "stock_screener_url = f'https://api.unusualwhales.com/api/screener/stocks'\n",
    "positive_stock_screener_params = {\n",
    "    'order': 'net_premium',\n",
    "    'order_direction': 'desc'\n",
    "}\n",
    "positive_stock_screener_rsp = httpx.get(\n",
    "    stock_screener_url,\n",
    "    headers=headers,\n",
    "    params=positive_stock_screener_params\n",
    ")\n",
    "positive_stock_screener_rsp.status_code"
   ]
  },
  {
   "cell_type": "markdown",
   "id": "44ed704d",
   "metadata": {},
   "source": [
    "200 (success)! The response data is quite rich so I am going to show a single dictionary:\n",
    "\n",
    "```\n",
    ">>> positive_stock_screener_rsp.json()\n",
    "{'data': [{'realized_volatility': '0.563447697840083050324876454521547081094166016343785413',\n",
    "   'prev_put_oi': 2996216,\n",
    "   'implied_move_perc': '0.01089659925315411',\n",
    "   'sector': 'Consumer Cyclical',\n",
    "   'er_time': 'unknown',\n",
    "   'iv30d_1m': '0.738680259214912',\n",
    "   'gex_ratio': '0.65156405255265214224',\n",
    "   'call_premium': '1080373705.0000',\n",
    "   'call_volume_bid_side': 478486,\n",
    "   'gex_perc_change': '-0.20913732383544494528',\n",
    "   'iv_rank': '36.73131555016125943100',\n",
    "   'put_volume_ask_side': 348552,\n",
    "   'is_index': False,\n",
    "   'put_volume_bid_side': 382649,\n",
    "   'ticker': 'TSLA',\n",
    "   'prev_call_oi': 3381353,\n",
    "   'issue_type': 'Common Stock',\n",
    "   'week_52_high': '488.5399',\n",
    "   'put_open_interest': 3121548,\n",
    "   'total_open_interest': 6663500,\n",
    "   'net_put_premium': '-28918236.0000',\n",
    "   'iv30d_1d': '0.550519033360857',\n",
    "   'put_premium': '415992376.0000',\n",
    "   'avg_30_day_put_oi': '3787810.733333333333',\n",
    "   'put_call_ratio': '0.73449647482806202411',\n",
    "   'call_volume_ask_side': 532392,\n",
    "   'bullish_premium': '769269819.0000',\n",
    "   'prev_put_volume': 1253761,\n",
    "   'date': '2025-01-31',\n",
    "   'marketcap': '1287507439570',\n",
    "   'stock_volume': 43706863,\n",
    "   'iv30d_1w': '0.619570354162097',\n",
    "   'high': '419.98',\n",
    "   'avg_30_day_call_volume': '1395347.833333333333',\n",
    "   'next_earnings_date': '2025-04-22',\n",
    "   'call_volume': 1099379,\n",
    "   'avg_3_day_put_volume': '724170.666666666667',\n",
    "   'gex_net_change': '245964.1694',\n",
    "   'volatility': '0.766025536680471',\n",
    "   'close': '417.9',\n",
    "   'avg_7_day_put_volume': '692206.428571428571',\n",
    "   'avg_30_day_call_oi': '3897124.133333333333',\n",
    "   'avg_3_day_call_volume': '950225.000000000000',\n",
    "   'variance_risk_premium': '0.156828277880789949675123545478452918905833983656214587',\n",
    "   'prev_call_volume': 1668565,\n",
    "   'next_dividend_date': None,\n",
    "   'low': '401.425',\n",
    "   'avg30_volume': '65061415.263157894737',\n",
    "   'full_name': 'TESLA INC',\n",
    "   'avg_30_day_put_volume': '948770.233333333333',\n",
    "   'net_call_premium': '103844719.0000',\n",
    "   'call_open_interest': 3541952,\n",
    "   'bearish_premium': '619841697.0000',\n",
    "   'put_volume': 807490,\n",
    "   'iv30d': '0.531942662915937',\n",
    "   'week_52_low': '138.8025',\n",
    "   'implied_move': '4.56033575343753',\n",
    "   'avg_7_day_call_volume': '958170.142857142857',\n",
    "   'prev_close': '400.28'},\n",
    "```\n",
    "Phew!\n",
    "\n",
    "Let's concentrate on the `net_call_premium` and `net_put_premium` fields, since this is the driver for the chart in question. I am going to use a polars DataFrame to make bulk operations on this data easier:"
   ]
  },
  {
   "cell_type": "code",
   "execution_count": 4,
   "id": "c151845e",
   "metadata": {},
   "outputs": [
    {
     "data": {
      "text/html": [
       "<div><style>\n",
       ".dataframe > thead > tr,\n",
       ".dataframe > tbody > tr {\n",
       "  text-align: right;\n",
       "  white-space: pre-wrap;\n",
       "}\n",
       "</style>\n",
       "<small>shape: (46, 3)</small><table border=\"1\" class=\"dataframe\"><thead><tr><th>ticker</th><th>net_call_premium</th><th>net_put_premium</th></tr><tr><td>str</td><td>f64</td><td>f64</td></tr></thead><tbody><tr><td>&quot;COIN&quot;</td><td>2.726695e7</td><td>-1.6456212e7</td></tr><tr><td>&quot;SPOT&quot;</td><td>1.4331417e7</td><td>-638567.0</td></tr><tr><td>&quot;AMZN&quot;</td><td>1.1377001e7</td><td>-3.016557e6</td></tr><tr><td>&quot;META&quot;</td><td>2.4810894e7</td><td>1.1397696e7</td></tr><tr><td>&quot;LLY&quot;</td><td>1.0015673e7</td><td>-1.587402e6</td></tr><tr><td>&hellip;</td><td>&hellip;</td><td>&hellip;</td></tr><tr><td>&quot;TZA&quot;</td><td>55617.0</td><td>-1.662739e6</td></tr><tr><td>&quot;MRK&quot;</td><td>775790.0</td><td>-941250.0</td></tr><tr><td>&quot;CORT&quot;</td><td>1.731681e6</td><td>40469.0</td></tr><tr><td>&quot;UDOW&quot;</td><td>1.685224e6</td><td>6238.0</td></tr><tr><td>&quot;MDB&quot;</td><td>1.408622e6</td><td>-211461.0</td></tr></tbody></table></div>"
      ],
      "text/plain": [
       "shape: (46, 3)\n",
       "┌────────┬──────────────────┬─────────────────┐\n",
       "│ ticker ┆ net_call_premium ┆ net_put_premium │\n",
       "│ ---    ┆ ---              ┆ ---             │\n",
       "│ str    ┆ f64              ┆ f64             │\n",
       "╞════════╪══════════════════╪═════════════════╡\n",
       "│ COIN   ┆ 2.726695e7       ┆ -1.6456212e7    │\n",
       "│ SPOT   ┆ 1.4331417e7      ┆ -638567.0       │\n",
       "│ AMZN   ┆ 1.1377001e7      ┆ -3.016557e6     │\n",
       "│ META   ┆ 2.4810894e7      ┆ 1.1397696e7     │\n",
       "│ LLY    ┆ 1.0015673e7      ┆ -1.587402e6     │\n",
       "│ …      ┆ …                ┆ …               │\n",
       "│ TZA    ┆ 55617.0          ┆ -1.662739e6     │\n",
       "│ MRK    ┆ 775790.0         ┆ -941250.0       │\n",
       "│ CORT   ┆ 1.731681e6       ┆ 40469.0         │\n",
       "│ UDOW   ┆ 1.685224e6       ┆ 6238.0          │\n",
       "│ MDB    ┆ 1.408622e6       ┆ -211461.0       │\n",
       "└────────┴──────────────────┴─────────────────┘"
      ]
     },
     "execution_count": 4,
     "metadata": {},
     "output_type": "execute_result"
    }
   ],
   "source": [
    "excluded_tickers = ['SPX', 'SPXW', 'NDX', 'NDXP', 'VIX', 'VIXW']\n",
    "raw_positive_df = pl.DataFrame(positive_stock_screener_rsp.json()['data'])\n",
    "clean_positive_df = (\n",
    "    raw_positive_df\n",
    "    .select(['ticker', 'net_call_premium', 'net_put_premium'])\n",
    "    .with_columns(\n",
    "        pl.col('net_call_premium').cast(pl.Float64),\n",
    "        pl.col('net_put_premium').cast(pl.Float64)\n",
    "    )\n",
    "    .filter(\n",
    "        ~pl.col('ticker').is_in(excluded_tickers)  # remove indexes\n",
    "    )\n",
    ")\n",
    "clean_positive_df"
   ]
  },
  {
   "cell_type": "markdown",
   "id": "f6dd4502",
   "metadata": {},
   "source": [
    "OK great, you are just going to have to take my word for it unfortunately but I can confirm that the top 5 match what is currently shown on the site (Monday May 16th, 2025, at about 3:00PM Chicago time) so let's move on.\n",
    "\n",
    "With the net positive tickers handled our next task is to collect the net negative tickers, and again we will lean on the screener/Stock Screener endpoint:\n",
    "\n",
    "[https://api.unusualwhales.com/docs#/operations/PublicApi.ScreenerController.stock_screener](https://api.unusualwhales.com/docs#/operations/PublicApi.ScreenerController.stock_screener)\n",
    "\n",
    "but this time we will get the `net_premium` results in ascending order instead of descending order:"
   ]
  },
  {
   "cell_type": "code",
   "execution_count": 5,
   "id": "ea88cf09",
   "metadata": {},
   "outputs": [
    {
     "data": {
      "text/plain": [
       "200"
      ]
     },
     "execution_count": 5,
     "metadata": {},
     "output_type": "execute_result"
    }
   ],
   "source": [
    "stock_screener_url = f'https://api.unusualwhales.com/api/screener/stocks'\n",
    "negative_stock_screener_params = {\n",
    "    'order': 'net_premium',\n",
    "    'order_direction': 'asc'\n",
    "}\n",
    "negative_stock_screener_rsp = httpx.get(\n",
    "    stock_screener_url,\n",
    "    headers=headers,\n",
    "    params=negative_stock_screener_params\n",
    ")\n",
    "negative_stock_screener_rsp.status_code"
   ]
  },
  {
   "cell_type": "markdown",
   "id": "f6348111",
   "metadata": {},
   "source": [
    "200 (success) again! Let's apply the same treatment as above to the new, negative results:"
   ]
  },
  {
   "cell_type": "code",
   "execution_count": 6,
   "id": "c049c560",
   "metadata": {},
   "outputs": [
    {
     "data": {
      "text/html": [
       "<div><style>\n",
       ".dataframe > thead > tr,\n",
       ".dataframe > tbody > tr {\n",
       "  text-align: right;\n",
       "  white-space: pre-wrap;\n",
       "}\n",
       "</style>\n",
       "<small>shape: (49, 3)</small><table border=\"1\" class=\"dataframe\"><thead><tr><th>ticker</th><th>net_call_premium</th><th>net_put_premium</th></tr><tr><td>str</td><td>f64</td><td>f64</td></tr></thead><tbody><tr><td>&quot;TSLA&quot;</td><td>-2.1326755e7</td><td>1.638485e7</td></tr><tr><td>&quot;MSTR&quot;</td><td>-1.4347287e7</td><td>7.215794e6</td></tr><tr><td>&quot;AAPL&quot;</td><td>-1.2992526e7</td><td>6.631852e6</td></tr><tr><td>&quot;BRKB&quot;</td><td>-9.20836e6</td><td>4.486791e6</td></tr><tr><td>&quot;PLTR&quot;</td><td>-7.678367e6</td><td>3.429367e6</td></tr><tr><td>&hellip;</td><td>&hellip;</td><td>&hellip;</td></tr><tr><td>&quot;TGTX&quot;</td><td>-1.206063e6</td><td>-178251.0</td></tr><tr><td>&quot;NKE&quot;</td><td>-621308.0</td><td>352309.0</td></tr><tr><td>&quot;MSTU&quot;</td><td>-1.029072e6</td><td>-80660.0</td></tr><tr><td>&quot;EQIX&quot;</td><td>-912622.0</td><td>28614.0</td></tr><tr><td>&quot;SPXL&quot;</td><td>-743553.0</td><td>156157.0</td></tr></tbody></table></div>"
      ],
      "text/plain": [
       "shape: (49, 3)\n",
       "┌────────┬──────────────────┬─────────────────┐\n",
       "│ ticker ┆ net_call_premium ┆ net_put_premium │\n",
       "│ ---    ┆ ---              ┆ ---             │\n",
       "│ str    ┆ f64              ┆ f64             │\n",
       "╞════════╪══════════════════╪═════════════════╡\n",
       "│ TSLA   ┆ -2.1326755e7     ┆ 1.638485e7      │\n",
       "│ MSTR   ┆ -1.4347287e7     ┆ 7.215794e6      │\n",
       "│ AAPL   ┆ -1.2992526e7     ┆ 6.631852e6      │\n",
       "│ BRKB   ┆ -9.20836e6       ┆ 4.486791e6      │\n",
       "│ PLTR   ┆ -7.678367e6      ┆ 3.429367e6      │\n",
       "│ …      ┆ …                ┆ …               │\n",
       "│ TGTX   ┆ -1.206063e6      ┆ -178251.0       │\n",
       "│ NKE    ┆ -621308.0        ┆ 352309.0        │\n",
       "│ MSTU   ┆ -1.029072e6      ┆ -80660.0        │\n",
       "│ EQIX   ┆ -912622.0        ┆ 28614.0         │\n",
       "│ SPXL   ┆ -743553.0        ┆ 156157.0        │\n",
       "└────────┴──────────────────┴─────────────────┘"
      ]
     },
     "execution_count": 6,
     "metadata": {},
     "output_type": "execute_result"
    }
   ],
   "source": [
    "excluded_tickers = ['SPX', 'SPXW', 'NDX', 'NDXP', 'VIX', 'VIXW', 'RUT', 'RUTW']\n",
    "raw_negative_df = pl.DataFrame(negative_stock_screener_rsp.json()['data'])\n",
    "clean_negative_df = (\n",
    "    raw_negative_df\n",
    "    .select(['ticker', 'net_call_premium', 'net_put_premium'])\n",
    "    .with_columns(\n",
    "        pl.col('net_call_premium').cast(pl.Float64),\n",
    "        pl.col('net_put_premium').cast(pl.Float64)\n",
    "    )\n",
    "    .filter(\n",
    "        ~pl.col('ticker').is_in(excluded_tickers)  # remove indexes\n",
    "    )\n",
    ")\n",
    "clean_negative_df"
   ]
  },
  {
   "cell_type": "markdown",
   "id": "9635a799",
   "metadata": {},
   "source": [
    "Again, you will just have to take more word for it, but the order of these tickers (SPY, QQQ, IWM, MSTR, UNH, etc.) matches the site exactly.\n",
    "\n",
    "Let's take the top 10 tickers from each DataFrame, combine them into a single DataFrame (for easier plotting), add a `positive` or `negative` value into a \"side\" column (also for easier plotting), and calculate a `net_premium` field so we have one final descriptive value for each ticker:"
   ]
  },
  {
   "cell_type": "code",
   "execution_count": 7,
   "id": "65538acb",
   "metadata": {},
   "outputs": [
    {
     "data": {
      "text/html": [
       "<div><style>\n",
       ".dataframe > thead > tr,\n",
       ".dataframe > tbody > tr {\n",
       "  text-align: right;\n",
       "  white-space: pre-wrap;\n",
       "}\n",
       "</style>\n",
       "<small>shape: (20, 3)</small><table border=\"1\" class=\"dataframe\"><thead><tr><th>ticker</th><th>net_premium</th><th>side</th></tr><tr><td>str</td><td>f64</td><td>str</td></tr></thead><tbody><tr><td>&quot;AMD&quot;</td><td>1.0406211e7</td><td>&quot;positive&quot;</td></tr><tr><td>&quot;ASML&quot;</td><td>9.642989e6</td><td>&quot;positive&quot;</td></tr><tr><td>&quot;MSFT&quot;</td><td>8.454422e6</td><td>&quot;positive&quot;</td></tr><tr><td>&quot;RUT&quot;</td><td>6.851175e6</td><td>&quot;positive&quot;</td></tr><tr><td>&quot;SQQQ&quot;</td><td>5.664282e6</td><td>&quot;positive&quot;</td></tr><tr><td>&hellip;</td><td>&hellip;</td><td>&hellip;</td></tr><tr><td>&quot;PLTR&quot;</td><td>-1.1107734e7</td><td>&quot;negative&quot;</td></tr><tr><td>&quot;BRKB&quot;</td><td>-1.3695151e7</td><td>&quot;negative&quot;</td></tr><tr><td>&quot;AAPL&quot;</td><td>-1.9624378e7</td><td>&quot;negative&quot;</td></tr><tr><td>&quot;MSTR&quot;</td><td>-2.1563081e7</td><td>&quot;negative&quot;</td></tr><tr><td>&quot;TSLA&quot;</td><td>-3.7711605e7</td><td>&quot;negative&quot;</td></tr></tbody></table></div>"
      ],
      "text/plain": [
       "shape: (20, 3)\n",
       "┌────────┬──────────────┬──────────┐\n",
       "│ ticker ┆ net_premium  ┆ side     │\n",
       "│ ---    ┆ ---          ┆ ---      │\n",
       "│ str    ┆ f64          ┆ str      │\n",
       "╞════════╪══════════════╪══════════╡\n",
       "│ AMD    ┆ 1.0406211e7  ┆ positive │\n",
       "│ ASML   ┆ 9.642989e6   ┆ positive │\n",
       "│ MSFT   ┆ 8.454422e6   ┆ positive │\n",
       "│ RUT    ┆ 6.851175e6   ┆ positive │\n",
       "│ SQQQ   ┆ 5.664282e6   ┆ positive │\n",
       "│ …      ┆ …            ┆ …        │\n",
       "│ PLTR   ┆ -1.1107734e7 ┆ negative │\n",
       "│ BRKB   ┆ -1.3695151e7 ┆ negative │\n",
       "│ AAPL   ┆ -1.9624378e7 ┆ negative │\n",
       "│ MSTR   ┆ -2.1563081e7 ┆ negative │\n",
       "│ TSLA   ┆ -3.7711605e7 ┆ negative │\n",
       "└────────┴──────────────┴──────────┘"
      ]
     },
     "execution_count": 7,
     "metadata": {},
     "output_type": "execute_result"
    }
   ],
   "source": [
    "top_10_clean_pos_df = (\n",
    "    clean_positive_df\n",
    "    .head(10)\n",
    "    .with_columns(\n",
    "        pl.lit('positive').alias('side')\n",
    "    )\n",
    ")\n",
    "top_10_clean_neg_df = (\n",
    "    clean_negative_df\n",
    "    .head(10)\n",
    "    .with_columns(\n",
    "        pl.lit('negative').alias('side')\n",
    "    )\n",
    ")\n",
    "raw_final_df = pl.concat([top_10_clean_pos_df, top_10_clean_neg_df])\n",
    "plot_ready_df = (\n",
    "    raw_final_df\n",
    "    .with_columns(\n",
    "        (pl.col('net_call_premium') - pl.col('net_put_premium')).alias('net_premium')\n",
    "    )\n",
    "    .select(['ticker', 'net_premium', 'side'])\n",
    "    .sort('net_premium', descending=True)\n",
    ")\n",
    "plot_ready_df"
   ]
  },
  {
   "cell_type": "markdown",
   "id": "b15fa015",
   "metadata": {},
   "source": [
    "At last, we are ready to plot the results (with some extra styling):"
   ]
  },
  {
   "cell_type": "code",
   "execution_count": 8,
   "id": "c3d8fbba",
   "metadata": {},
   "outputs": [],
   "source": [
    "UW_DARK_THEME = {\n",
    "    'red': '#dc3545',\n",
    "    'yellow': '#ffc107',\n",
    "    'teal': '#20c997',\n",
    "    'black': '#161c2d',\n",
    "    'gray_medium': '#748196',\n",
    "    'gray_light': '#f9fbfd',\n",
    "}\n",
    "\n",
    "def uw_dark_theme(colors: dict, show_legend: bool=True) -> theme:\n",
    "    \"\"\"Create a dark theme for lets-plot using UW colors.\"\"\"\n",
    "    t = theme_none() + theme(\n",
    "        plot_background=element_rect(fill=colors['black']),\n",
    "        panel_background=element_rect(fill=colors['black']),\n",
    "        panel_grid_major=element_blank(),\n",
    "        panel_grid_minor=element_blank(),\n",
    "        axis_ontop=True,\n",
    "        axis_ticks=element_blank(),\n",
    "        axis_tooltip=element_rect(color=colors['gray_light']),\n",
    "        tooltip=element_rect(color=colors['gray_light'], fill=colors['black']),\n",
    "        line=element_line(color=colors['gray_medium'], size=1),\n",
    "        rect=element_rect(color=colors['black'], fill=colors['black'], size=2),\n",
    "        text=element_text(color=colors['gray_light'], size=10),\n",
    "        legend_background=element_rect(color=colors['gray_light'], fill=colors['black'], size=2),\n",
    "        plot_title=element_text(hjust=0.5, size=16, color=colors['gray_light']),\n",
    "    )\n",
    "    if show_legend:\n",
    "        return t + theme(legend_position='bottom')\n",
    "    else:\n",
    "        return t + theme(legend_position='none')"
   ]
  },
  {
   "cell_type": "code",
   "execution_count": 9,
   "id": "074bf244",
   "metadata": {},
   "outputs": [
    {
     "data": {
      "text/html": [
       "   <div id=\"jMBDeE\"></div>\n",
       "   <script type=\"text/javascript\" data-lets-plot-script=\"plot\">\n",
       "       (function() {\n",
       "           var plotSpec={\n",
       "\"data\":{\n",
       "\"ticker\":[\"TSLA\",\"MSTR\",\"AAPL\",\"BRKB\",\"PLTR\",\"X\",\"UBER\",\"DIA\",\"NFLX\",\"XLI\",\"BA\",\"TEVA\",\"NOW\",\"GLD\",\"KWEB\",\"SQQQ\",\"RUT\",\"MSFT\",\"ASML\",\"AMD\"],\n",
       "\"net_premium\":[-3.7711605E7,-2.1563081E7,-1.9624378E7,-1.3695151E7,-1.1107734E7,-6232967.0,-5140846.0,-4853560.0,-4535992.0,-4408284.0,3355533.0,3477343.0,3551006.0,4280262.0,5534658.0,5664282.0,6851175.0,8454422.0,9642989.0,1.0406211E7],\n",
       "\"side\":[\"negative\",\"negative\",\"negative\",\"negative\",\"negative\",\"negative\",\"negative\",\"negative\",\"negative\",\"negative\",\"positive\",\"positive\",\"positive\",\"positive\",\"positive\",\"positive\",\"positive\",\"positive\",\"positive\",\"positive\"]\n",
       "},\n",
       "\"mapping\":{\n",
       "\"x\":\"net_premium\",\n",
       "\"y\":\"ticker\"\n",
       "},\n",
       "\"data_meta\":{\n",
       "},\n",
       "\"ggtitle\":{\n",
       "\"text\":\"Top Net Impact Replica\"\n",
       "},\n",
       "\"theme\":{\n",
       "\"name\":\"none\",\n",
       "\"line\":{\n",
       "\"color\":\"#748196\",\n",
       "\"size\":1.0,\n",
       "\"blank\":false\n",
       "},\n",
       "\"rect\":{\n",
       "\"fill\":\"#161c2d\",\n",
       "\"color\":\"#161c2d\",\n",
       "\"size\":2.0,\n",
       "\"blank\":false\n",
       "},\n",
       "\"text\":{\n",
       "\"color\":\"#f9fbfd\",\n",
       "\"size\":10.0,\n",
       "\"blank\":false\n",
       "},\n",
       "\"axis_ontop\":true,\n",
       "\"axis_ticks\":{\n",
       "\"blank\":true\n",
       "},\n",
       "\"legend_background\":{\n",
       "\"fill\":\"#161c2d\",\n",
       "\"color\":\"#f9fbfd\",\n",
       "\"size\":2.0,\n",
       "\"blank\":false\n",
       "},\n",
       "\"panel_background\":{\n",
       "\"fill\":\"#161c2d\",\n",
       "\"blank\":false\n",
       "},\n",
       "\"panel_grid_major\":{\n",
       "\"blank\":true\n",
       "},\n",
       "\"panel_grid_minor\":{\n",
       "\"blank\":true\n",
       "},\n",
       "\"plot_background\":{\n",
       "\"fill\":\"#161c2d\",\n",
       "\"blank\":false\n",
       "},\n",
       "\"plot_title\":{\n",
       "\"color\":\"#f9fbfd\",\n",
       "\"size\":16.0,\n",
       "\"hjust\":0.5,\n",
       "\"blank\":false\n",
       "},\n",
       "\"axis_tooltip\":{\n",
       "\"color\":\"#f9fbfd\",\n",
       "\"blank\":false\n",
       "},\n",
       "\"tooltip\":{\n",
       "\"fill\":\"#161c2d\",\n",
       "\"color\":\"#f9fbfd\",\n",
       "\"blank\":false\n",
       "},\n",
       "\"legend_position\":\"none\"\n",
       "},\n",
       "\"kind\":\"plot\",\n",
       "\"scales\":[{\n",
       "\"aesthetic\":\"fill\",\n",
       "\"breaks\":[\"positive\",\"negative\"],\n",
       "\"values\":[\"#20c997\",\"#dc3545\"]\n",
       "}],\n",
       "\"layers\":[{\n",
       "\"geom\":\"bar\",\n",
       "\"stat\":\"identity\",\n",
       "\"mapping\":{\n",
       "\"fill\":\"side\"\n",
       "},\n",
       "\"data_meta\":{\n",
       "},\n",
       "\"size\":0.5,\n",
       "\"orientation\":\"y\",\n",
       "\"data\":{\n",
       "}\n",
       "}],\n",
       "\"metainfo_list\":[]\n",
       "};\n",
       "           var plotContainer = document.getElementById(\"jMBDeE\");\n",
       "           window.letsPlotCall(function() {{\n",
       "               LetsPlot.buildPlotFromProcessedSpecs(plotSpec, -1, -1, plotContainer);\n",
       "           }});\n",
       "       })();\n",
       "   </script>"
      ]
     },
     "metadata": {},
     "output_type": "display_data"
    }
   ],
   "source": [
    "color_mapping = {\n",
    "    'positive': UW_DARK_THEME['teal'],\n",
    "    'negative': UW_DARK_THEME['red'],\n",
    "}\n",
    "\n",
    "top_net_impact_plot = (\n",
    "    ggplot(\n",
    "        plot_ready_df.sort('net_premium', descending=False),\n",
    "        aes(x='net_premium', y='ticker')\n",
    "    )\n",
    "    + geom_bar(aes(fill='side'), stat='identity', size=0.5)\n",
    "    + scale_fill_manual(values=color_mapping)\n",
    "    + ggtitle('Top Net Impact Replica')\n",
    "    + uw_dark_theme(UW_DARK_THEME, show_legend=False)\n",
    ")\n",
    "top_net_impact_plot.show()"
   ]
  }
 ],
 "metadata": {
  "kernelspec": {
   "display_name": "dans-magic-house-o9sLICWK-py3.11",
   "language": "python",
   "name": "python3"
  },
  "language_info": {
   "codemirror_mode": {
    "name": "ipython",
    "version": 3
   },
   "file_extension": ".py",
   "mimetype": "text/x-python",
   "name": "python",
   "nbconvert_exporter": "python",
   "pygments_lexer": "ipython3",
   "version": "3.11.7"
  }
 },
 "nbformat": 4,
 "nbformat_minor": 5
}
